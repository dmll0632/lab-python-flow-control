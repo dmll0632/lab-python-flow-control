{
 "cells": [
  {
   "cell_type": "markdown",
   "id": "d3bfc191-8885-42ee-b0a0-bbab867c6f9f",
   "metadata": {
    "tags": []
   },
   "source": [
    "# Lab | Flow Control"
   ]
  },
  {
   "cell_type": "markdown",
   "id": "3851fcd1-cf98-4653-9c89-e003b7ec9400",
   "metadata": {},
   "source": [
    "## Exercise: Managing Customer Orders Optimized\n",
    "\n",
    "In the last lab, you were starting an online store that sells various products. To ensure smooth operations, you developed a program that manages customer orders and inventory.\n",
    "\n",
    "You did so without using flow control. Let's go a step further and improve this code.\n",
    "\n",
    "Follow the steps below to complete the exercise:\n",
    "\n",
    "1. Look at your code from the lab data structures, and improve repeated code with loops.\n",
    "\n",
    "2. Instead of asking the user to input the name of three products that a customer wants to order, do the following:\n",
    "    \n",
    "    a. Prompt the user to enter the name of a product that a customer wants to order.\n",
    "    \n",
    "    b. Add the product name to the \"customer_orders\" set.\n",
    "    \n",
    "    c. Ask the user if they want to add another product (yes/no).\n",
    "    \n",
    "    d. Continue the loop until the user does not want to add another product.\n",
    "\n",
    "3. Instead of updating the inventory by subtracting 1 from the quantity of each product, only do it for  the products that were ordered (those in \"customer_orders\")."
   ]
  },
  {
   "cell_type": "code",
   "execution_count": 1,
   "id": "120276f4-4734-4b38-8569-36d276088b18",
   "metadata": {},
   "outputs": [
    {
     "name": "stdin",
     "output_type": "stream",
     "text": [
      " How many products do we have from t-shirt 50\n",
      " How many products do we have from mug 40\n",
      " How many products do we have from hat 30\n",
      " How many products do we have from book 20\n",
      " How many products do we have from keychain 10\n"
     ]
    },
    {
     "name": "stdout",
     "output_type": "stream",
     "text": [
      "Total number of producs =150\n"
     ]
    },
    {
     "data": {
      "text/plain": [
       "{'t-shirt': 50, 'mug': 40, 'hat': 30, 'book': 20, 'keychain': 10}"
      ]
     },
     "execution_count": 1,
     "metadata": {},
     "output_type": "execute_result"
    }
   ],
   "source": [
    "products =[\"t-shirt\", \"mug\", \"hat\", \"book\", \"keychain\"]\n",
    "inventory = {}\n",
    "\n",
    "for item in products :\n",
    "    howmany =int( input(\" How many products do we have from \" + item))\n",
    "    inventory[ (item) ] = (howmany)\n",
    "\n",
    "\n",
    "values_of_inventory = inventory.values()\n",
    "total_item_number = 0\n",
    "for value in values_of_inventory :\n",
    "    total_item_number = total_item_number + value\n",
    "print(\"Total number of producs =\" + str(total_item_number))\n",
    "\n",
    "inventory"
   ]
  },
  {
   "cell_type": "code",
   "execution_count": null,
   "id": "3de6abd8-20e2-4072-aea9-07a3c26101fd",
   "metadata": {},
   "outputs": [],
   "source": []
  },
  {
   "cell_type": "code",
   "execution_count": 16,
   "id": "49a876ca-411f-47fa-b4ad-273fff01de3d",
   "metadata": {},
   "outputs": [
    {
     "name": "stdin",
     "output_type": "stream",
     "text": [
      "enter the name of a product that a you want.  book\n",
      "Would you like to add another product? yes\n",
      "enter the name of a product that a you want.  mug\n",
      "Would you like to add another product? no\n"
     ]
    }
   ],
   "source": [
    "customer_orders=set()\n",
    "#order = input (\"Enter the name of a product you want. \")\n",
    "#customer_orders.add(order)\n",
    "#answer = input(\"Would you like to add another product?\")\n",
    "answer = \"yes\"\n",
    "while answer == \"yes\" :\n",
    "    order = input (\"enter the name of a product that a you want. \")\n",
    "    customer_orders.add(order)\n",
    "    answer = input(\"Would you like to add another product?\")\n",
    "\n"
   ]
  },
  {
   "cell_type": "code",
   "execution_count": 17,
   "id": "bc0d5117-2741-45c6-846e-71aacfd45be9",
   "metadata": {},
   "outputs": [
    {
     "data": {
      "text/plain": [
       "{'book', 'mug'}"
      ]
     },
     "execution_count": 17,
     "metadata": {},
     "output_type": "execute_result"
    }
   ],
   "source": [
    "customer_orders"
   ]
  },
  {
   "cell_type": "code",
   "execution_count": 19,
   "id": "621dc036-bf3d-4d16-83a9-88ee32f4beb2",
   "metadata": {},
   "outputs": [
    {
     "name": "stdout",
     "output_type": "stream",
     "text": [
      "{'t-shirt': 50, 'mug': 40, 'hat': 30, 'book': 20, 'keychain': 10}\n",
      "{'book', 'mug'}\n",
      "inventory update is sucsessfull\n",
      "{'t-shirt': 50, 'mug': 39, 'hat': 30, 'book': 19, 'keychain': 10}\n"
     ]
    }
   ],
   "source": [
    "print(inventory)\n",
    "print(customer_orders)\n",
    "for item in customer_orders:\n",
    "    if item in inventory.keys() :\n",
    "        inventory[item] -= 1\n",
    "    else:\n",
    "        None\n",
    "        \n",
    "        \n",
    "\n",
    "print(\"inventory update is sucsessfull\")\n",
    "print(inventory)\n",
    "    "
   ]
  },
  {
   "cell_type": "code",
   "execution_count": null,
   "id": "6b8d831f-3aa0-4e96-a322-c2ab60674d8c",
   "metadata": {},
   "outputs": [],
   "source": []
  },
  {
   "cell_type": "code",
   "execution_count": null,
   "id": "905b7cc1-ffc3-45ec-a017-cb840fcf251e",
   "metadata": {},
   "outputs": [],
   "source": []
  }
 ],
 "metadata": {
  "kernelspec": {
   "display_name": "Python 3 (ipykernel)",
   "language": "python",
   "name": "python3"
  },
  "language_info": {
   "codemirror_mode": {
    "name": "ipython",
    "version": 3
   },
   "file_extension": ".py",
   "mimetype": "text/x-python",
   "name": "python",
   "nbconvert_exporter": "python",
   "pygments_lexer": "ipython3",
   "version": "3.11.7"
  }
 },
 "nbformat": 4,
 "nbformat_minor": 5
}
